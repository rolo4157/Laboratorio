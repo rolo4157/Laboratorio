{
  "metadata": {
    "kernelspec": {
      "name": "python",
      "display_name": "Python (Pyodide)",
      "language": "python"
    },
    "language_info": {
      "codemirror_mode": {
        "name": "ipython",
        "version": 3
      },
      "file_extension": ".py",
      "mimetype": "text/x-python",
      "name": "python",
      "nbconvert_exporter": "python",
      "pygments_lexer": "ipython3",
      "version": "3.7.12"
    }
  },
  "nbformat_minor": 5,
  "nbformat": 4,
  "cells": [
    {
      "cell_type": "markdown",
      "source": "<h1>Data Science Tools and Ecosystem<h1>",
      "metadata": {},
      "id": "5aa39048-3f72-4fc7-bbba-0a738fd50136"
    },
    {
      "cell_type": "code",
      "source": "In this notebook, Data Science Tools and Ecosystem are summarized",
      "metadata": {},
      "execution_count": null,
      "outputs": [],
      "id": "374d50e6-26f6-4637-8732-2fd28f3eb7a1"
    },
    {
      "cell_type": "markdown",
      "source": "<h3><b>Objectives:</b></h3>\n</td>\n<ul>\n<li>Popular languages used in data science</li>\n<li>Commonly libraries used by data scientists</li>\n<li>Examples of evaluating arithmetic</li>\n</ul>",
      "metadata": {},
      "id": "a9cfcc6f-1914-4188-8769-40312e3baa8e"
    },
    {
      "cell_type": "code",
      "source": "Some of the popular languages that Data Scientists use are:",
      "metadata": {
        "trusted": true
      },
      "execution_count": null,
      "outputs": [],
      "id": "23595f7c-1841-491e-92d8-27b9b4e421ea"
    },
    {
      "cell_type": "markdown",
      "source": "<ol>\n<li>R</li>\n<li>Python</li>\n<li>Julia</li>\n<li>Scala</li>\n</ol>",
      "metadata": {},
      "id": "931a4c59-e545-4756-93fe-eae6cc69f145"
    },
    {
      "cell_type": "markdown",
      "source": "Some of the commonly used libraries used by Data Scientists include:",
      "metadata": {},
      "id": "0cadc5e7-c05a-4107-944e-58451ebe887d"
    },
    {
      "cell_type": "markdown",
      "source": "<ol>\n<li>Panda</li>\n<li>Numpy</li>\n<li>Scikit-learn</li>\n<li>Matplotlib</li>\n<li>Beautiful Soup</li>\n<ol>",
      "metadata": {},
      "id": "30baf46d-7c6c-4f8f-be00-15936e2ccff4"
    },
    {
      "cell_type": "markdown",
      "source": "<table style=\"width:20%\">\n<tr>\n<th>Data Science Tools</th>\n</tr>\n<tr>\n<td>RStudio</td>\n</tr>\n<tr>\n<td>Apache Hadoop</td>\n</tr>\n<tr>\n<td>TensorFlow</td>\n</tr>\n<tr>\n<td>Jupyter Notebook</td>\n</tr>\n</table>",
      "metadata": {},
      "id": "6a4170a5-f26a-41fe-9014-6f89ad7b1264"
    },
    {
      "cell_type": "markdown",
      "source": "<h3>Below are a few examples of evaluating arithmetic expressions in Python</h3>",
      "metadata": {},
      "id": "49b19c17-f678-4595-87a8-36b49541c660"
    },
    {
      "cell_type": "code",
      "source": "#This a simple arithmetic expression to mutiply then add integers\n(3*4)+5",
      "metadata": {
        "tags": []
      },
      "execution_count": 1,
      "outputs": [
        {
          "execution_count": 1,
          "output_type": "execute_result",
          "data": {
            "text/plain": [
              "17"
            ]
          },
          "metadata": {}
        }
      ],
      "id": "c358781d-71a4-411c-aae5-92142223b16d"
    },
    {
      "cell_type": "code",
      "source": "#This will convert 200 minutes to hours by diving by 60\n200/60",
      "metadata": {
        "tags": [],
        "trusted": true
      },
      "execution_count": null,
      "outputs": [],
      "id": "d31a71b0-4bb5-4341-a873-6e7fa15f9cf8"
    },
    {
      "cell_type": "markdown",
      "source": "<h2>Author<h2>\n<h4>Rodrigo perez</h4>",
      "metadata": {},
      "id": "dd7ef53c-b02a-45c7-a303-149bb06c4a5b"
    },
    {
      "cell_type": "code",
      "source": "",
      "metadata": {},
      "execution_count": null,
      "outputs": [],
      "id": "926e7256-6af7-439e-ae5b-119c558a0d6a"
    },
    {
      "cell_type": "code",
      "source": "",
      "metadata": {},
      "execution_count": null,
      "outputs": [],
      "id": "4a3b42e9-8bda-4385-ae3e-cecb3a60c7e3"
    },
    {
      "cell_type": "code",
      "source": "",
      "metadata": {},
      "execution_count": null,
      "outputs": [],
      "id": "39075cfe-2535-4351-be50-dad87b255c45"
    }
  ]
}